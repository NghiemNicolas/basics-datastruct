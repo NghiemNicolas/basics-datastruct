{
 "cells": [
  {
   "cell_type": "markdown",
   "metadata": {},
   "source": [
    "# Linked Lists implementation in Python\n",
    "\n",
    "The aim here is to implement a LinkedList class to understand the basis of this item (even though it does not really make sense to use LinkedLists in Python) and to get better at python programming. Replace the code in the class by #TODO before giving them as exercises.\n",
    "#TODO It will include a few exercises to get used to work with them.\n",
    "#TODO put try/catch exceptions"
   ]
  },
  {
   "cell_type": "code",
   "execution_count": 8,
   "metadata": {
    "collapsed": true
   },
   "outputs": [],
   "source": [
    "#Singly linked list\n",
    "'''\n",
    "Implement the functions in the class Node to be able to manipulate a LinkedList\n",
    "'''\n",
    "\n",
    "class Node:\n",
    "    def __init__(self,data):\n",
    "        self.value = data\n",
    "        self.next = None\n",
    "    \n",
    "    def add_at_end(self,data):\n",
    "        new_node = Node(data)\n",
    "        current_node = self\n",
    "        while current_node.next is not None:\n",
    "            current_node = current_node.next #we go to the tail of the LinkedList\n",
    "        current_node.next = new_node\n",
    "        return\n",
    "        \n",
    "#a singly linked list can be entirely defined by the knowledge of its head Node\n",
    "\n",
    "class myLinkedList:\n",
    "    def __init__(self,node):\n",
    "        self.head = node\n",
    "        \n",
    "    def add_at_end(self,data):\n",
    "        self.head.add_at_end(self.data)"
   ]
  },
  {
   "cell_type": "code",
   "execution_count": 9,
   "metadata": {},
   "outputs": [
    {
     "name": "stdout",
     "output_type": "stream",
     "text": [
      "2\n",
      "3\n",
      "4\n"
     ]
    }
   ],
   "source": [
    "#examples\n",
    "A = Node(2)\n",
    "A.add_at_end(3)\n",
    "A.add_at_end(4)\n",
    "A.add_at_end(5)\n",
    "print(A.value)\n",
    "print(A.next.value)\n",
    "print(A.next.next.value)"
   ]
  },
  {
   "cell_type": "markdown",
   "metadata": {},
   "source": [
    "# EXERCISES"
   ]
  },
  {
   "cell_type": "code",
   "execution_count": 11,
   "metadata": {
    "collapsed": true
   },
   "outputs": [],
   "source": [
    "'''\n",
    "As a first exercise write a function that, given a Node node and a Value item, insert a Node with the value item \n",
    "just after node\n",
    "'''\n",
    "\n",
    "def insert(node,item):\n",
    "    node_to_insert = Node(item)\n",
    "    next_node = node.next\n",
    "    node.next = node_to_insert\n",
    "    node_to_insert.next = next_node\n",
    "    return"
   ]
  },
  {
   "cell_type": "code",
   "execution_count": 17,
   "metadata": {},
   "outputs": [
    {
     "name": "stdout",
     "output_type": "stream",
     "text": [
      "2->3->4->5\n",
      "2->3->7->4\n"
     ]
    }
   ],
   "source": [
    "B = Node(2)\n",
    "B.add_at_end(3)\n",
    "B.add_at_end(4)\n",
    "B.add_at_end(5)\n",
    "B.add_at_end(6)\n",
    "print(str(B.value)+\"->\"+str(B.next.value)+\"->\"+str(B.next.next.value)+\"->\"+str(B.next.next.next.value))\n",
    "insert(B.next,7) #insert a 7 after the 3\n",
    "print(str(B.value)+\"->\"+str(B.next.value)+\"->\"+str(B.next.next.value)+\"->\"+str(B.next.next.next.value))"
   ]
  },
  {
   "cell_type": "code",
   "execution_count": 18,
   "metadata": {
    "collapsed": true
   },
   "outputs": [],
   "source": [
    "'''\n",
    "now write a function that, given a Node node, removes the next node (but keeps the nodes after)\n",
    "'''\n",
    "def remove_next_node(node):\n",
    "    if node.next is None:\n",
    "        print(\"Nothing to do\")\n",
    "        return\n",
    "    next_node = node.next\n",
    "    node.next = next_node.next\n",
    "    return"
   ]
  },
  {
   "cell_type": "code",
   "execution_count": 19,
   "metadata": {},
   "outputs": [
    {
     "name": "stdout",
     "output_type": "stream",
     "text": [
      "2->3->7->4\n",
      "2->3->4->5\n"
     ]
    }
   ],
   "source": [
    "print(str(B.value)+\"->\"+str(B.next.value)+\"->\"+str(B.next.next.value)+\"->\"+str(B.next.next.next.value))\n",
    "remove_next_node(B.next) #we remove the 7 that we put earlier\n",
    "print(str(B.value)+\"->\"+str(B.next.value)+\"->\"+str(B.next.next.value)+\"->\"+str(B.next.next.next.value))"
   ]
  },
  {
   "cell_type": "code",
   "execution_count": 20,
   "metadata": {
    "collapsed": true
   },
   "outputs": [],
   "source": [
    "'''\n",
    "now remove the given node (careful, it cannot work with the first and the last node!)\n",
    "'''\n",
    "def remove_node(node):\n",
    "    if node.next == None:\n",
    "        print(\"impossible\")\n",
    "        return\n",
    "    next_node = node.next\n",
    "    node.value = next_node.value\n",
    "    node.next = next_node.next\n",
    "    return"
   ]
  },
  {
   "cell_type": "code",
   "execution_count": 21,
   "metadata": {},
   "outputs": [
    {
     "name": "stdout",
     "output_type": "stream",
     "text": [
      "2->3->4->5\n",
      "2->4->5->6\n"
     ]
    }
   ],
   "source": [
    "print(str(B.value)+\"->\"+str(B.next.value)+\"->\"+str(B.next.next.value)+\"->\"+str(B.next.next.next.value))\n",
    "remove_node(B.next) #it should remove the 3\n",
    "print(str(B.value)+\"->\"+str(B.next.value)+\"->\"+str(B.next.next.value)+\"->\"+str(B.next.next.next.value))"
   ]
  },
  {
   "cell_type": "code",
   "execution_count": 22,
   "metadata": {
    "collapsed": true
   },
   "outputs": [],
   "source": [
    "'''\n",
    "Get the k-th to last element from a linked list given its head\n",
    "'''\n",
    "\n",
    "def kth_to_last(node,k):\n",
    "    '''\n",
    "    Hint: an idea of solving this problem is to have a \"runner\" that will be k nodes above the regular node we are checking and which is moving\n",
    "    at the same pace. When this runner will reach the last node, the main node will be at list_length - k giving the\n",
    "    solution\n",
    "    '''\n",
    "    node_slow = node\n",
    "    node_fast = node\n",
    "    for i in range(k):\n",
    "        if node_fast.next == None: return None\n",
    "        node_fast = node_fast.next\n",
    "    \n",
    "    while node_fast is not None:\n",
    "        node_slow = node_slow.next\n",
    "        node_fast = node_fast.next\n",
    "        \n",
    "    return node_slow.value"
   ]
  },
  {
   "cell_type": "code",
   "execution_count": 25,
   "metadata": {},
   "outputs": [
    {
     "name": "stdout",
     "output_type": "stream",
     "text": [
      "6\n",
      "5\n",
      "4\n"
     ]
    }
   ],
   "source": [
    "print(kth_to_last(B,1)) #last element of B\n",
    "print(kth_to_last(B,2))\n",
    "print(kth_to_last(B,3))"
   ]
  },
  {
   "cell_type": "code",
   "execution_count": null,
   "metadata": {
    "collapsed": true
   },
   "outputs": [],
   "source": [
    "#TODO palindrome detection"
   ]
  }
 ],
 "metadata": {
  "kernelspec": {
   "display_name": "Python 3",
   "language": "python",
   "name": "python3"
  },
  "language_info": {
   "codemirror_mode": {
    "name": "ipython",
    "version": 3
   },
   "file_extension": ".py",
   "mimetype": "text/x-python",
   "name": "python",
   "nbconvert_exporter": "python",
   "pygments_lexer": "ipython3",
   "version": "3.6.7"
  }
 },
 "nbformat": 4,
 "nbformat_minor": 2
}
