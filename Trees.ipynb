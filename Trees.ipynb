{
 "cells": [
  {
   "cell_type": "markdown",
   "metadata": {},
   "source": [
    "# Tree implementation in Python\n",
    "\n",
    "The aim here is to implement a Tree class to understand the basis of this item (even though it does not really make sense to use LinkedLists in Python) and to get better at python programming. Replace the code in the class by #TODO before giving them as exercises.\n",
    "\n",
    "#TODO It will include a few exercises to get used to work with them.\n",
    "\n",
    "#TODO put try/catch exceptions\n"
   ]
  },
  {
   "cell_type": "code",
   "execution_count": 3,
   "metadata": {
    "collapsed": true
   },
   "outputs": [],
   "source": [
    "'''\n",
    "A tree is defined by its root node. Each node have zero (it is a \"leaf\") or more nodes. Here we want to implement a\n",
    "binary tree. To do so, you may consider that a Node have a Right and a Left children\n",
    "'''\n",
    "class Node:\n",
    "    def __init__(self,data):\n",
    "        self.value = data\n",
    "        self.right = None\n",
    "        self.left = None\n",
    "    \n",
    "    def add_right(self,node):\n",
    "        if self.right is not None:\n",
    "            print(\"Error, already a Node here\")\n",
    "            return\n",
    "        self.right = node\n",
    "        \n",
    "    def add_left(self,node):\n",
    "        if self.left is not None:\n",
    "            print(\"Error, already a Node here\")\n",
    "            return\n",
    "        self.left = node\n",
    "        \n",
    "class myTree:\n",
    "    def __init__(self,node):\n",
    "        self.root = node"
   ]
  },
  {
   "cell_type": "code",
   "execution_count": 4,
   "metadata": {
    "collapsed": true
   },
   "outputs": [],
   "source": [
    "# Examples\n",
    "\n",
    "N = Node(4)\n",
    "N.add_left(Node(2))\n",
    "N.left.add_left(Node(1))\n",
    "N.left.add_right(Node(3))\n",
    "N.add_right(Node(6))\n",
    "N.right.add_left(Node(5))\n",
    "N.right.add_right(Node(7))\n",
    "T = myTree(N)"
   ]
  },
  {
   "cell_type": "code",
   "execution_count": 5,
   "metadata": {
    "collapsed": true
   },
   "outputs": [],
   "source": [
    "'''\n",
    "We now will implement functions to visit the entire tree. There are different strategies depending in which order  we\n",
    "may want to visit the tree.\n",
    "inOrderTraversal will, for a binary search tree return the nodes in ascending order\n",
    "preOrderTraversal will visit the root first then its left node etc.\n",
    "postOrderTraversal will visit the root at the end\n",
    "\n",
    "Here we print the values but we can store them in a list or do another operation, it does not really matter\n",
    "'''\n",
    "\n",
    "def inOrderTraversal(node):\n",
    "    if(node is None):\n",
    "        return\n",
    "    \n",
    "    inOrderTraversal(node.left)\n",
    "    print(node.value)\n",
    "    inOrderTraversal(node.right)\n",
    "    return\n",
    "\n",
    "def preOrderTraversal(node):\n",
    "    if(node is None):\n",
    "        return\n",
    "    \n",
    "    print(node.value)\n",
    "    preOrderTraversal(node.left)\n",
    "    preOrderTraversal(node.right)\n",
    "    return\n",
    "    \n",
    "def postOrderTraversal(node):\n",
    "    if(node is None):\n",
    "        return\n",
    "    \n",
    "    postOrderTraversal(node.left)\n",
    "    postOrderTraversal(node.right)\n",
    "    print(node.value)\n",
    "    return"
   ]
  },
  {
   "cell_type": "code",
   "execution_count": 6,
   "metadata": {},
   "outputs": [
    {
     "name": "stdout",
     "output_type": "stream",
     "text": [
      "inOrder traversal:\n",
      "1\n",
      "2\n",
      "3\n",
      "4\n",
      "5\n",
      "6\n",
      "7\n",
      "preOrder traversal:\n",
      "4\n",
      "2\n",
      "1\n",
      "3\n",
      "6\n",
      "5\n",
      "7\n",
      "postOrder traversal:\n",
      "1\n",
      "3\n",
      "2\n",
      "5\n",
      "7\n",
      "6\n",
      "4\n"
     ]
    }
   ],
   "source": [
    "print(\"inOrder traversal:\")\n",
    "inOrderTraversal(N)\n",
    "print(\"preOrder traversal:\")\n",
    "preOrderTraversal(N)\n",
    "print(\"postOrder traversal:\")\n",
    "postOrderTraversal(N)"
   ]
  },
  {
   "cell_type": "markdown",
   "metadata": {},
   "source": [
    "# EXERCISES"
   ]
  },
  {
   "cell_type": "code",
   "execution_count": 14,
   "metadata": {},
   "outputs": [],
   "source": [
    "'''\n",
    "Implement a function to check if a binary tree is a binary search tree. Note that node.left.value = node.value is OK but\n",
    "node.value = node.right.value is not !\n",
    "'''\n",
    "# if node.value = node.right.value was accepted, the idea would be to do an inOrderTraversal and check if the result\n",
    "# is ordered. But we cannot do that here\n",
    "\n",
    "# we propose a Traversal that check if a tree is Binary Search. We do it in an preOrderTraversal fashion but it does not\n",
    "# really matter. We replace the print by a function that checks if node.left <= node < node.right. We store the maximum\n",
    "# and the minimum values acceptable. Going left update the max value when going right update the min value\n",
    "def isBinarySearch(root, min = -float('inf') , max = float('inf')):\n",
    "    if root is None:\n",
    "        return True\n",
    "    # we go in the left node\n",
    "    if root.left is not None:\n",
    "        if not(isBinarySearch(root.left, min, root.value) and root.left.value >= min and root.left.value < max):\n",
    "            return False\n",
    "    if root.right is not None:\n",
    "        if not (isBinarySearch(root.right,root.value,max) and root.left.value >= min and root.left.value < max):\n",
    "            return False\n",
    "    return True"
   ]
  },
  {
   "cell_type": "code",
   "execution_count": 15,
   "metadata": {},
   "outputs": [
    {
     "data": {
      "text/plain": [
       "True"
      ]
     },
     "execution_count": 15,
     "metadata": {},
     "output_type": "execute_result"
    }
   ],
   "source": [
    "isBinarySearch(N)"
   ]
  },
  {
   "cell_type": "code",
   "execution_count": 29,
   "metadata": {},
   "outputs": [
    {
     "name": "stdout",
     "output_type": "stream",
     "text": [
      "3\n",
      "Next is:\n",
      "4\n"
     ]
    }
   ],
   "source": [
    "'''\n",
    "Implement a binary tree that can check its ancestor. Then, implement a function that can find the next node (in the\n",
    "in_order order) of a given node in the graph\n",
    "'''\n",
    "\n",
    "class NodeWithAncestor(Node):\n",
    "    def __init__(self,data):\n",
    "        Node.__init__(self,data)\n",
    "        self.ancestor = None\n",
    "        \n",
    "    def add_right(self,node):\n",
    "        Node.add_right(self,node)\n",
    "        node.ancestor = self\n",
    "        \n",
    "    def add_left(self,node):\n",
    "        Node.add_left(self,node)\n",
    "        node.ancestor = self\n",
    "        \n",
    "AN = NodeWithAncestor(4)\n",
    "AN.add_left(NodeWithAncestor(2))\n",
    "AN.left.add_left(NodeWithAncestor(1))\n",
    "AN.left.add_right(NodeWithAncestor(3))\n",
    "AN.add_right(NodeWithAncestor(6))\n",
    "AN.right.add_left(NodeWithAncestor(5))\n",
    "AN.right.add_right(NodeWithAncestor(7))\n",
    "\n",
    "def getNextInOrder(node):\n",
    "    if node.right is not None:\n",
    "        node = node.right\n",
    "        while node.left is not None:\n",
    "            node = node.left\n",
    "        return node\n",
    "    else:\n",
    "        node_copy = node\n",
    "        node = node.ancestor\n",
    "        while node_copy.value == node.right.value:\n",
    "            if node.ancestor is None:\n",
    "                print(\"Last element cannot go further\")\n",
    "                return node\n",
    "            node_copy = node\n",
    "            node = node.ancestor\n",
    "        #when we finally can go right, it means that we arrived at the good node\n",
    "        return node\n",
    "    \n",
    "print(AN.left.right.value)\n",
    "print(\"Next is:\")\n",
    "print(getNextInOrder(AN.left.right).value)"
   ]
  },
  {
   "cell_type": "code",
   "execution_count": null,
   "metadata": {
    "collapsed": true
   },
   "outputs": [],
   "source": []
  }
 ],
 "metadata": {
  "kernelspec": {
   "display_name": "Python 3",
   "language": "python",
   "name": "python3"
  },
  "language_info": {
   "codemirror_mode": {
    "name": "ipython",
    "version": 3
   },
   "file_extension": ".py",
   "mimetype": "text/x-python",
   "name": "python",
   "nbconvert_exporter": "python",
   "pygments_lexer": "ipython3",
   "version": "3.6.7"
  }
 },
 "nbformat": 4,
 "nbformat_minor": 2
}
