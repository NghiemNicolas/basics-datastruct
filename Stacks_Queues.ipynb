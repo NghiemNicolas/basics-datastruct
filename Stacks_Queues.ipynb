{
 "cells": [
  {
   "cell_type": "markdown",
   "metadata": {},
   "source": [
    "# Stack and Queue implementation in Python\n",
    "\n",
    "The aim here is to implement a Stack and a Queue to understand the basis of the items and to get better at python programming. Replace the code in the class by #TODO before giving them as exercises.\n",
    "#TODO It will include a few exercises to get used to work with them.\n",
    "#TODO put try/catch exceptions"
   ]
  },
  {
   "cell_type": "code",
   "execution_count": 19,
   "metadata": {
    "collapsed": true
   },
   "outputs": [],
   "source": [
    "#implementing a stack\n",
    "\n",
    "class myStack:\n",
    "    '''\n",
    "    we need to have the following operators:\n",
    "    pop() remove the TOP of the stack\n",
    "    push(item) at the TOP\n",
    "    peek() the TOP\n",
    "    isEmpty()\n",
    "    '''\n",
    "    \n",
    "    #we create a class called Node that contains the item and the next node\n",
    "    class stackNode:\n",
    "        def __init__(self,data):\n",
    "            self.data = data\n",
    "            self.next_node = None\n",
    "            \n",
    "    def __init__(self):\n",
    "        self.top_node = None\n",
    "        \n",
    "    def isEmpty(self):\n",
    "        return (self.top_node is None)\n",
    "    \n",
    "    def pop(self):\n",
    "        if self.isEmpty():\n",
    "            print(\"Stack is empty\")\n",
    "            return\n",
    "        item = self.top_node.data\n",
    "        self.top_node = self.top_node.next_node\n",
    "        return item\n",
    "    \n",
    "    def push(self,item):\n",
    "        new_node = self.stackNode(item)\n",
    "        new_node.next_node = self.top_node # stack <- top_node <- new_node\n",
    "        self.top_node = new_node\n",
    "        return\n",
    "    \n",
    "    def peek(self):\n",
    "        if self.isEmpty(): \n",
    "            print(\"Stack is empty\")\n",
    "            return\n",
    "        return self.top_node.data"
   ]
  },
  {
   "cell_type": "code",
   "execution_count": 26,
   "metadata": {},
   "outputs": [
    {
     "name": "stdout",
     "output_type": "stream",
     "text": [
      "12\n",
      "13\n",
      "13\n",
      "12\n",
      "12\n",
      "Stack is empty\n",
      "None\n"
     ]
    }
   ],
   "source": [
    "#Example\n",
    "\n",
    "A = myStack()\n",
    "A.push(12)\n",
    "print(A.peek())\n",
    "A.push(13)\n",
    "print(A.peek())\n",
    "print(A.pop())\n",
    "print(A.peek())\n",
    "print(A.pop())\n",
    "print(A.pop())"
   ]
  },
  {
   "cell_type": "code",
   "execution_count": 21,
   "metadata": {
    "collapsed": true
   },
   "outputs": [],
   "source": [
    "#implementing a Queue\n",
    "\n",
    "class myQueue:\n",
    "    '''\n",
    "    we need to have the following operators:\n",
    "    add(item) at the END\n",
    "    remove() that removes the FIRST\n",
    "    peek() the FIRST\n",
    "    isEmpty()\n",
    "    '''\n",
    "    \n",
    "    class queueNode:\n",
    "        def __init__(self,data):\n",
    "            self.data = data\n",
    "            self.next_node = None\n",
    "    \n",
    "    def __init__(self):\n",
    "        self.first_node = None\n",
    "        self.last_node = None\n",
    "        \n",
    "    def isEmpty(self):\n",
    "        return first_node is None\n",
    "    \n",
    "    def add(self,item):\n",
    "        new_node = self.queueNode(item)\n",
    "        if self.last_node is not None:\n",
    "            self.last_node.next_node = new_node # queue -> last -> new\n",
    "        self.last_node = new_node\n",
    "        if self.first_node is None:\n",
    "            self.first_node = self.last_node\n",
    "    \n",
    "    def remove(self):\n",
    "        if self.last_node is None:\n",
    "            print(\"Queue is empty\")\n",
    "            return\n",
    "        \n",
    "        data = self.first_node.data\n",
    "        self.first_node = self.first_node.next_node\n",
    "        if self.first_node is None:\n",
    "            self.last_node = None\n",
    "        return data\n",
    "    \n",
    "    def peek(self):\n",
    "        if self.first_node is None:\n",
    "            print(\"Queue is empty\")\n",
    "            return\n",
    "        \n",
    "        return self.first_node.data"
   ]
  },
  {
   "cell_type": "code",
   "execution_count": 22,
   "metadata": {},
   "outputs": [
    {
     "name": "stdout",
     "output_type": "stream",
     "text": [
      "1\n",
      "1\n",
      "2\n",
      "Queue is empty\n",
      "None\n"
     ]
    }
   ],
   "source": [
    "#examples\n",
    "\n",
    "B = myQueue()\n",
    "B.add(1)\n",
    "B.add(2)\n",
    "print(B.peek())\n",
    "print(B.remove())\n",
    "print(B.remove())\n",
    "print(B.peek())"
   ]
  },
  {
   "cell_type": "code",
   "execution_count": null,
   "metadata": {
    "collapsed": true
   },
   "outputs": [],
   "source": []
  },
  {
   "cell_type": "code",
   "execution_count": null,
   "metadata": {
    "collapsed": true
   },
   "outputs": [],
   "source": []
  }
 ],
 "metadata": {
  "kernelspec": {
   "display_name": "Python 3",
   "language": "python",
   "name": "python3"
  },
  "language_info": {
   "codemirror_mode": {
    "name": "ipython",
    "version": 3
   },
   "file_extension": ".py",
   "mimetype": "text/x-python",
   "name": "python",
   "nbconvert_exporter": "python",
   "pygments_lexer": "ipython3",
   "version": "3.6.7"
  }
 },
 "nbformat": 4,
 "nbformat_minor": 2
}
